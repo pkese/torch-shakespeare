{
 "cells": [
  {
   "cell_type": "code",
   "execution_count": 1,
   "metadata": {
    "dotnet_interactive": {
     "language": "fsharp"
    },
    "polyglot_notebook": {
     "kernelName": "fsharp"
    }
   },
   "outputs": [
    {
     "name": "stdout",
     "output_type": "stream",
     "text": [
      "Using CUDA / GPU\n",
      "Using device: cuda\n"
     ]
    }
   ],
   "source": [
    "#load \"llm.fsx\"\n",
    "\n",
    "open System\n",
    "open TorchSharp\n",
    "\n",
    "let device = Llm.device\n",
    "printfn \"Using device: %s\" (device.ToString())"
   ]
  },
  {
   "cell_type": "code",
   "execution_count": 2,
   "metadata": {
    "dotnet_interactive": {
     "language": "fsharp"
    },
    "polyglot_notebook": {
     "kernelName": "fsharp"
    }
   },
   "outputs": [
    {
     "name": "stdout",
     "output_type": "stream",
     "text": [
      "/usr/local/cuda-11.7/lib64:\n",
      ".NET 7.0.13\n"
     ]
    }
   ],
   "source": [
    "printfn \"%s\" <| System.Environment.GetEnvironmentVariable(\"LD_LIBRARY_PATH\")\n",
    "printfn \"%s\" <| System.Runtime.InteropServices.RuntimeInformation.FrameworkDescription"
   ]
  },
  {
   "cell_type": "code",
   "execution_count": 3,
   "metadata": {
    "dotnet_interactive": {
     "language": "fsharp"
    },
    "polyglot_notebook": {
     "kernelName": "fsharp"
    }
   },
   "outputs": [
    {
     "name": "stdout",
     "output_type": "stream",
     "text": [
      "Vocab size: 65\n",
      "Chars: \n",
      " !$&',-.3:;?ABCDEFGHIJKLMNOPQRSTUVWXYZabcdefghijklmnopqrstuvwxyz\n"
     ]
    }
   ],
   "source": [
    "let text = IO.File.ReadAllText(\"shakespeare.txt\")\n",
    "let chars = Seq.distinct text |> Seq.toArray |> Array.sort\n",
    "let vocabSize = chars.Length\n",
    "printfn \"Vocab size: %d\" vocabSize\n",
    "printfn \"Chars: %s\" (String.Join(\"\", chars))"
   ]
  },
  {
   "cell_type": "code",
   "execution_count": 4,
   "metadata": {
    "dotnet_interactive": {
     "language": "fsharp"
    },
    "polyglot_notebook": {
     "kernelName": "fsharp"
    }
   },
   "outputs": [],
   "source": [
    "let cfg = {|\n",
    "    vocabSize = vocabSize\n",
    "    blockSize = 32\n",
    "    batchSize = 4L\n",
    "    encodingSize = 80L\n",
    "    nHeads = 4L\n",
    "    dropout = 0.1\n",
    "    bias = false\n",
    "|}        \n"
   ]
  },
  {
   "cell_type": "code",
   "execution_count": 5,
   "metadata": {
    "dotnet_interactive": {
     "language": "fsharp"
    },
    "polyglot_notebook": {
     "kernelName": "fsharp"
    }
   },
   "outputs": [
    {
     "name": "stdout",
     "output_type": "stream",
     "text": [
      "hello world -> [|46; 43; 50; 50; 53; 1; 61; 53; 56; 50; 42|] -> \"hello world\"\n"
     ]
    }
   ],
   "source": [
    "let encode, decode =\n",
    "    let maxCharCode = chars |> Seq.map int |> Seq.max\n",
    "    let char2index = Array.zeroCreate (maxCharCode + 1)\n",
    "    let index2char = Array.zeroCreate (vocabSize + 1)\n",
    "    for i,ch in Seq.indexed chars do\n",
    "        char2index[int ch] <- int i\n",
    "        index2char[i] <- ch\n",
    "    let encode (s:string) =\n",
    "        Array.init s.Length (fun i -> char2index[int s[i]])\n",
    "    let decode (xs: int[]) =\n",
    "        xs |> Array.map (fun i -> index2char[int i]) |> String.Concat\n",
    "    encode, decode\n",
    "\n",
    "printfn \"hello world -> %A -> %A\" (encode \"hello world\") (decode (encode \"hello world\"))"
   ]
  },
  {
   "cell_type": "code",
   "execution_count": 6,
   "metadata": {
    "dotnet_interactive": {
     "language": "fsharp"
    },
    "polyglot_notebook": {
     "kernelName": "fsharp"
    }
   },
   "outputs": [
    {
     "name": "stdout",
     "output_type": "stream",
     "text": [
      "Shapes: train=1003854, validation=111540\n"
     ]
    }
   ],
   "source": [
    "let trainData, validData =\n",
    "    let splitIdx = text.Length * 9 / 10\n",
    "    encode text[0..splitIdx-1], encode text[splitIdx..]\n",
    "printfn \"Shapes: train=%d, validation=%d\" trainData.Length validData.Length\n"
   ]
  },
  {
   "cell_type": "code",
   "execution_count": 7,
   "metadata": {
    "dotnet_interactive": {
     "language": "fsharp"
    },
    "polyglot_notebook": {
     "kernelName": "fsharp"
    }
   },
   "outputs": [
    {
     "data": {
      "text/html": [
       "<details open=\"open\" class=\"dni-treeview\"><summary><span class=\"dni-code-hint\"><code>([1x5], type = Int64, device = cuda:0, [1x5], type = Int64, device = cuda:0)</code></span></summary><div><table><thead><tr></tr></thead><tbody><tr><td>Item1</td><td><div><pre>[1x5], type = Int64, device = cuda:0\n",
       " 1 2 3 4 5\n",
       "</pre></div></td></tr><tr><td>Item2</td><td><div><pre>[1x5], type = Int64, device = cuda:0\n",
       " 2 3 4 5 6\n",
       "</pre></div></td></tr></tbody></table></div></details><style>\r\n",
       ".dni-code-hint {\r\n",
       "    font-style: italic;\r\n",
       "    overflow: hidden;\r\n",
       "    white-space: nowrap;\r\n",
       "}\r\n",
       ".dni-treeview {\r\n",
       "    white-space: nowrap;\r\n",
       "}\r\n",
       ".dni-treeview td {\r\n",
       "    vertical-align: top;\r\n",
       "    text-align: start;\r\n",
       "}\r\n",
       "details.dni-treeview {\r\n",
       "    padding-left: 1em;\r\n",
       "}\r\n",
       "table td {\r\n",
       "    text-align: start;\r\n",
       "}\r\n",
       "table tr { \r\n",
       "    vertical-align: top; \r\n",
       "    margin: 0em 0px;\r\n",
       "}\r\n",
       "table tr td pre \r\n",
       "{ \r\n",
       "    vertical-align: top !important; \r\n",
       "    margin: 0em 0px !important;\r\n",
       "} \r\n",
       "table th {\r\n",
       "    text-align: start;\r\n",
       "}\r\n",
       "</style>"
      ]
     },
     "metadata": {},
     "output_type": "display_data"
    }
   ],
   "source": [
    "type BatchGenerator (data: int[], blockSize, batchSize, device) =\n",
    "    let nChars = data.Length\n",
    "    let maxRnd = nChars - blockSize\n",
    "    let mutable random = new Random()\n",
    "    let xs = Array.zeroCreate (batchSize * blockSize)\n",
    "    let ys = Array.zeroCreate (batchSize * blockSize)\n",
    "    let tensorShape = [|int64 batchSize; int64 blockSize|]\n",
    "    let mutable charsServed = 0\n",
    "    member this.StartReproducibleRandom() =\n",
    "        random <- new Random(1337)\n",
    "    member this.GetBatch() =\n",
    "        for i in 0..batchSize-1 do\n",
    "            let ix = random.Next(maxRnd)\n",
    "            let xdst = xs.AsSpan(i*blockSize, blockSize)\n",
    "            let xsrc = data.AsSpan(ix, blockSize)\n",
    "            xsrc.CopyTo(xdst)\n",
    "            let ydst = ys.AsSpan(i*blockSize, blockSize)\n",
    "            let ysrc = data.AsSpan(ix+1, blockSize)\n",
    "            ysrc.CopyTo(ydst)\n",
    "\n",
    "        charsServed <- charsServed + batchSize * blockSize\n",
    "\n",
    "        let xb = torch.tensor(xs, dimensions=tensorShape, dtype=torch.int64, device=device, requires_grad=false)\n",
    "        let yb = torch.tensor(ys, dimensions=tensorShape, dtype=torch.int64, device=device, requires_grad=false)\n",
    "        xb, yb\n",
    "    member this.Epoch = float charsServed / float nChars\n",
    "\n",
    "let test() =\n",
    "    let xb, yb = BatchGenerator([| for i in 0..12 -> int i |], 5, 4, device).GetBatch()\n",
    "    xb.slice(0L, 0L, 1L, 1L), yb.slice(0L, 0L, 1L, 1L)\n",
    "test()\n"
   ]
  },
  {
   "cell_type": "code",
   "execution_count": 8,
   "metadata": {
    "dotnet_interactive": {
     "language": "fsharp"
    },
    "polyglot_notebook": {
     "kernelName": "fsharp"
    }
   },
   "outputs": [
    {
     "data": {
      "text/html": [
       "<div><pre>[1x8x80], type = Float32, device = cuda:0\n",
       "[0,..,..] =\n",
       " -0.0050769  0.73575 0.76202 0.80285  0.20955 0.081826 0.44591 0.62199  -0.30893 -0.088673  0.81884 ...\n",
       "   -0.15132  0.46934  1.4349 0.26664  0.67682 -0.16382 0.46724 0.21796  -0.15924   -0.2184 0.041105 ...\n",
       "    0.59463  0.12358 0.82748   1.068  0.44149  -0.3263 0.11632 0.55609  0.053767   0.80878 -0.62916 ...\n",
       "    0.25828  0.70627  1.1898 0.92525  0.42789 -0.17283 0.18621 0.21939   0.84327   0.66794 -0.50009 ...\n",
       "    0.93343 -0.38694  1.0229  1.1216  0.15336  0.70714 0.90737 0.74078   0.51346   0.44824  0.73458 ...\n",
       "    0.04996  0.17925 0.97749 0.93918 0.059746  0.28872 0.84081 0.36859 -0.048599    1.1844  0.40211 ...\n",
       "    0.39397  0.18246   1.527 0.53804  0.38001  0.57761 0.83327 0.13186   0.31099   0.56912  0.48893 ...\n",
       "    0.91529  0.57297 0.41555 0.88098  0.35652  0.47885 0.69976 0.33366   0.53499    0.5999   0.6263 ...\n",
       "</pre></div>"
      ]
     },
     "metadata": {},
     "output_type": "display_data"
    }
   ],
   "source": [
    "let tr =\n",
    "    //new CausalSelfAttention(4)\n",
    "    (new Llm.Block(4, cfg.encodingSize, cfg.bias, cfg.dropout)).``to``(device)\n",
    "let t = torch.rand([|1L;8L;int64 cfg.encodingSize|], device=device, dtype=torch.float32)\n",
    "tr.forward(t)\n"
   ]
  },
  {
   "cell_type": "code",
   "execution_count": 9,
   "metadata": {
    "dotnet_interactive": {
     "language": "fsharp"
    },
    "polyglot_notebook": {
     "kernelName": "fsharp"
    }
   },
   "outputs": [],
   "source": [
    "let loss (ys:torch.Tensor) (yHat:torch.Tensor) =\n",
    "    let batchSize = ys.shape.[0]\n",
    "    let logits = yHat.reshape(-1, vocabSize)\n",
    "    let target = ys.reshape([|batchSize * (int64 cfg.blockSize)|])\n",
    "    //printfn \"shapes: logits=%A targets=%A\" logits.shape target.shape\n",
    "    let loss = torch.nn.functional.cross_entropy(logits, target)\n",
    "    loss\n",
    "\n",
    "let evalLosses : (torch.Tensor->torch.Tensor) -> float*float =\n",
    "    let nLoops = 16\n",
    "    let batchSize = 256\n",
    "    let trainBatchGen = BatchGenerator(trainData, cfg.blockSize, batchSize, device)\n",
    "    let validBatchGen = BatchGenerator(validData, cfg.blockSize, batchSize, device)\n",
    "    fun (forward : torch.Tensor -> torch.Tensor) ->\n",
    "        let getLoss (bg:BatchGenerator) =\n",
    "            use _ = torch.NewDisposeScope()\n",
    "            bg.StartReproducibleRandom()\n",
    "            torch.stack([\n",
    "                for i in 1..nLoops do\n",
    "                    let xb,yb = bg.GetBatch()\n",
    "                    yield loss yb (forward xb)\n",
    "            ]).mean().ToDouble()\n",
    "\n",
    "        getLoss trainBatchGen, getLoss validBatchGen"
   ]
  },
  {
   "cell_type": "markdown",
   "metadata": {},
   "source": [
    "### Select which the model to train\n",
    "... locally defined or the one loaded from script (both should have the same number of parameters)"
   ]
  },
  {
   "cell_type": "code",
   "execution_count": 10,
   "metadata": {
    "dotnet_interactive": {
     "language": "fsharp"
    },
    "polyglot_notebook": {
     "kernelName": "fsharp"
    }
   },
   "outputs": [
    {
     "name": "stdout",
     "output_type": "stream",
     "text": [
      "Number of parameters: 154465\n"
     ]
    }
   ],
   "source": [
    "let model =\n",
    "    new Llm.LanguageModel(2, cfg.nHeads, cfg.encodingSize, cfg.vocabSize, cfg.blockSize, cfg.bias, cfg.dropout)\n",
    "    //torch.jit.load<torch.Tensor, torch.Tensor>(\"shakespeare.pt.zip\")\n",
    "model.``to``(device) |> ignore\n",
    "\n",
    "\n",
    "Seq.sum [ for p in model.parameters() do if p.requires_grad then p.numel() ]\n",
    "|> printfn \"Number of parameters: %d\"\n",
    "//for n,p in model.named_parameters() do\n",
    "//    printfn \"%s: %A on %A\" n p.shape p.device\n",
    "\n",
    "if false then\n",
    "    let xb, yb = BatchGenerator(trainData, cfg.blockSize, 16, device).GetBatch()\n",
    "    printfn \"xb: %A on %A\" xb.shape xb.device\n",
    "    let yHat = model.forward(xb) |> unbox<torch.Tensor>\n",
    "    printfn \"%A\" yHat.shape\n",
    "\n",
    "\n",
    "//loss yb yHat, evalLosses model\n",
    "//loss yb yHat\n",
    "//printfn \"%s\" <| model.generate 100 \"       w\"\n",
    "//model.named_parameters()"
   ]
  },
  {
   "cell_type": "code",
   "execution_count": 11,
   "metadata": {
    "dotnet_interactive": {
     "language": "fsharp"
    },
    "polyglot_notebook": {
     "kernelName": "fsharp"
    }
   },
   "outputs": [
    {
     "data": {
      "text/plain": [
       "                               wPH?FhXPk;!tHPP$a&aPE!YOTCcpfCtg a&ipltMJJb.at,J:g!$Ju?F.PEhLPfWT!?SIyKkPTM?PkPaV3tQkXbD&sOT'OO&BHP'."
      ]
     },
     "metadata": {},
     "output_type": "display_data"
    }
   ],
   "source": [
    "/// run inference to generate some text from the model\n",
    "let generate (forward:torch.Tensor -> torch.Tensor) nTokens (input:string) =\n",
    "    let blockSize = cfg.blockSize\n",
    "\n",
    "    let generateIxs (ixs:torch.Tensor) nTokens =\n",
    "        model.eval()\n",
    "        let mutable ixs = ixs\n",
    "        let result = [|\n",
    "            yield ixs\n",
    "            for i in 1..nTokens do\n",
    "                //printfn \"ixs.shape=%A\" ixs.shape\n",
    "                use yHat = model.forward(ixs)\n",
    "                use yHat' = yHat.select(1L,-1L)\n",
    "                use probs = torch.nn.functional.softmax(yHat', 1)\n",
    "                //printfn \"yHat.shape=%A\" yHat.shape\n",
    "                let yIdx = torch.multinomial(probs, num_samples=1)\n",
    "                use ixs' =\n",
    "                    if ixs.shape[1] >= blockSize then\n",
    "                        ixs.slice(1L, 1L, int64 blockSize, 1L)\n",
    "                    else\n",
    "                        ixs.clone()\n",
    "                ixs <- torch.cat([|ixs'; yIdx|], dim=1)\n",
    "                //if i = 5 then\n",
    "                //    printfn \"shapes: ixs: %A yHat: %A yHat': %A probs: %A yIdx: %A\" ixs.shape yHat.shape yHat'.shape probs.shape yIdx.shape\n",
    "                yield yIdx\n",
    "        |]\n",
    "        torch.cat(result, dim=1)\n",
    "\n",
    "\n",
    "    let input = input.PadLeft(blockSize, ' ')\n",
    "    if input.Length <> blockSize then\n",
    "        failwithf \"Expected input of length %d, got %d\" blockSize input.Length\n",
    "    let idx = torch.tensor(encode input, dimensions=[|1L;int64 blockSize|], dtype=torch.int64, device=device, requires_grad=false)\n",
    "    let idx = idx.expand([|2L;-1L|])\n",
    "    //printfn \"idx.shape=%A\" idx.shape\n",
    "    let idx' = generateIxs idx nTokens\n",
    "    //printfn \"generated.shape=%A\" idx'.shape\n",
    "    let idx' = idx'.select(0L,0L).cpu()\n",
    "    let ords = Array.init (int idx'.NumberOfElements) (fun i -> idx'[int64 i].ToInt32())\n",
    "    //idx'.to_type(torch.int32, copy=false).data().CopyTo(ords, 0, 0)\n",
    "    decode ords\n",
    "\n",
    "generate model.forward 100 \"w\" // initially this should render some jibberish"
   ]
  },
  {
   "cell_type": "markdown",
   "metadata": {},
   "source": [
    "### Select optimization features"
   ]
  },
  {
   "cell_type": "code",
   "execution_count": 12,
   "metadata": {
    "dotnet_interactive": {
     "language": "fsharp"
    },
    "polyglot_notebook": {
     "kernelName": "fsharp"
    }
   },
   "outputs": [
    {
     "name": "stdout",
     "output_type": "stream",
     "text": [
      "flash sdp enabled = true\n"
     ]
    }
   ],
   "source": [
    "printfn \"flash sdp enabled = %b\" (torch.backends.cuda.flash_sdp_enabled())\n",
    "\n",
    "// use tf32 for matmul\n",
    "\n",
    "//torch.backends.cuda.matmul.allow_tf32 <- true\n",
    "torch.backends.cuda.matmul.allow_tf32 <- false"
   ]
  },
  {
   "cell_type": "code",
   "execution_count": 13,
   "metadata": {
    "dotnet_interactive": {
     "language": "fsharp"
    },
    "polyglot_notebook": {
     "kernelName": "fsharp"
    }
   },
   "outputs": [],
   "source": [
    "let optimizer = torch.optim.Adam(model.parameters(), lr=0.0001)\n",
    "\n",
    "let batchSize = 384\n",
    "let batchGen = BatchGenerator(trainData, cfg.blockSize, batchSize, device)\n",
    "\n",
    "let train nSteps =\n",
    "    model.train()\n",
    "    let stopwatch = Diagnostics.Stopwatch.StartNew()\n",
    "    for step in 0..nSteps do\n",
    "        use _ = torch.NewDisposeScope()\n",
    "        let xb, yb = batchGen.GetBatch()\n",
    "        let yHat = model.forward(xb)\n",
    "        let loss = loss yb yHat\n",
    "        optimizer.zero_grad()\n",
    "        loss.backward()\n",
    "        optimizer.step() |> ignore\n",
    "        if step % 5000 = 0 || step = nSteps then\n",
    "            model.eval()\n",
    "            let trainLoss,validLoss = evalLosses model.forward\n",
    "            printfn \"Step %5d: loss=%6f train=%6f valid=%6f epoch=%.2f\" step (loss.ToDouble()) trainLoss validLoss batchGen.Epoch\n",
    "            model.train()\n",
    "    stopwatch.Stop()\n",
    "    printfn \"Elapsed: %A\" stopwatch.Elapsed"
   ]
  },
  {
   "cell_type": "code",
   "execution_count": 14,
   "metadata": {
    "dotnet_interactive": {
     "language": "fsharp"
    },
    "polyglot_notebook": {
     "kernelName": "fsharp"
    }
   },
   "outputs": [
    {
     "name": "stdout",
     "output_type": "stream",
     "text": [
      "Step     0: loss=4.479452 train=4.467664 valid=4.462698 epoch=0.01\n",
      "Elapsed: 00:00:11.7987403\n"
     ]
    }
   ],
   "source": [
    "// pretrain a bit to warmup dotent optimizer\n",
    "train 2000\n",
    "\n",
    "GC.Collect()"
   ]
  },
  {
   "cell_type": "code",
   "execution_count": null,
   "metadata": {
    "dotnet_interactive": {
     "language": "fsharp"
    },
    "polyglot_notebook": {
     "kernelName": "fsharp"
    }
   },
   "outputs": [
    {
     "name": "stdout",
     "output_type": "stream",
     "text": [
      "Step     0: loss=2.204164 train=2.160022 valid=2.198765 epoch=24.51\n",
      "Step  5000: loss=1.870674 train=1.812406 valid=1.934276 epoch=85.71\n"
     ]
    }
   ],
   "source": [
    "// do the actual training (measure time)\n",
    "train 50000"
   ]
  },
  {
   "cell_type": "code",
   "execution_count": null,
   "metadata": {
    "dotnet_interactive": {
     "language": "fsharp"
    },
    "polyglot_notebook": {
     "kernelName": "fsharp"
    }
   },
   "outputs": [
    {
     "ename": "Error",
     "evalue": "input.fsx (1,17)-(1,25) typecheck error The value or constructor 'generate' is not defined. Maybe you want one of the following:\n   Delegate",
     "output_type": "error",
     "traceback": [
      "input.fsx (1,17)-(1,25) typecheck error The value or constructor 'generate' is not defined. Maybe you want one of the following:\n",
      "   Delegate"
     ]
    }
   ],
   "source": [
    "printfn \"%s\" <| generate model.forward 500 \"M\""
   ]
  },
  {
   "cell_type": "code",
   "execution_count": null,
   "metadata": {
    "dotnet_interactive": {
     "language": "fsharp"
    },
    "polyglot_notebook": {
     "kernelName": "fsharp"
    }
   },
   "outputs": [
    {
     "name": "stdout",
     "output_type": "stream",
     "text": [
      "layers.embed.tok_emb.weight         : [65x80], type = Float32, device = cuda:0\n",
      "layers.embed.pos_emb.weight         : [32x80], type = Float32, device = cuda:0\n",
      "layers.block1.ln1.weight            : [80], type = Float32, device = cuda:0\n",
      "layers.block1.ln1.bias              : [80], type = Float32, device = cuda:0\n",
      "layers.block1.attn.c_attn.weight    : [240x80], type = Float32, device = cuda:0\n",
      "layers.block1.ln2.weight            : [80], type = Float32, device = cuda:0\n",
      "layers.block1.ln2.bias              : [80], type = Float32, device = cuda:0\n",
      "layers.block1.mlp.net.c_fc.weight   : [320x80], type = Float32, device = cuda:0\n",
      "layers.block1.mlp.net.c_proj.weight : [80x320], type = Float32, device = cuda:0\n",
      "layers.block2.ln1.weight            : [80], type = Float32, device = cuda:0\n",
      "layers.block2.ln1.bias              : [80], type = Float32, device = cuda:0\n",
      "layers.block2.attn.c_attn.weight    : [240x80], type = Float32, device = cuda:0\n",
      "layers.block2.ln2.weight            : [80], type = Float32, device = cuda:0\n",
      "layers.block2.ln2.bias              : [80], type = Float32, device = cuda:0\n",
      "layers.block2.mlp.net.c_fc.weight   : [320x80], type = Float32, device = cuda:0\n",
      "layers.block2.mlp.net.c_proj.weight : [80x320], type = Float32, device = cuda:0\n",
      "layers.de_embed.weight              : [65x80], type = Float32, device = cuda:0\n",
      "layers.de_embed.bias                : [65], type = Float32, device = cuda:0\n"
     ]
    }
   ],
   "source": [
    "for struct(name,param) in model.named_parameters() do\n",
    "    printfn $\"%s{name.PadRight(36)}: %s{param.ToString()}\""
   ]
  }
 ],
 "metadata": {
  "kernelspec": {
   "display_name": ".NET (C#)",
   "language": "C#",
   "name": ".net-csharp"
  },
  "language_info": {
   "name": "polyglot-notebook"
  },
  "polyglot_notebook": {
   "kernelInfo": {
    "defaultKernelName": "csharp",
    "items": [
     {
      "aliases": [],
      "name": "csharp"
     },
     {
      "aliases": [],
      "languageName": "fsharp",
      "name": "fsharp"
     }
    ]
   }
  }
 },
 "nbformat": 4,
 "nbformat_minor": 2
}
